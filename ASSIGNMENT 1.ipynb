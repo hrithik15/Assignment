{
 "cells": [
  {
   "cell_type": "code",
   "execution_count": 1,
   "metadata": {},
   "outputs": [
    {
     "name": "stdout",
     "output_type": "stream",
     "text": [
      "2\n",
      "3\n",
      "3 2\n"
     ]
    }
   ],
   "source": [
    "# 1\n",
    "x=int(input())\n",
    "y=int(input())\n",
    "x=x+y\n",
    "y=x-y\n",
    "x=x-y\n",
    "print(x,y)"
   ]
  },
  {
   "cell_type": "code",
   "execution_count": 2,
   "metadata": {},
   "outputs": [
    {
     "name": "stdout",
     "output_type": "stream",
     "text": [
      "4\n",
      "4  is even\n"
     ]
    }
   ],
   "source": [
    "# 2\n",
    "x=int(input())\n",
    "if x%2==0 :\n",
    "    print(x,\" is even\")\n",
    "else :\n",
    "    print(x,\" is odd\")"
   ]
  },
  {
   "cell_type": "code",
   "execution_count": 4,
   "metadata": {},
   "outputs": [
    {
     "name": "stdout",
     "output_type": "stream",
     "text": [
      "19\n",
      "4\n"
     ]
    }
   ],
   "source": [
    "# 3\n",
    "x=int(input())\n",
    "i=1\n",
    "while(i**2<=x):\n",
    "    i+=1\n",
    "print(i-1)"
   ]
  },
  {
   "cell_type": "code",
   "execution_count": 6,
   "metadata": {},
   "outputs": [
    {
     "name": "stdout",
     "output_type": "stream",
     "text": [
      "1 2 3 4 5\n",
      "(5, 4, 3, 2, 1)\n"
     ]
    }
   ],
   "source": [
    "# 4\n",
    "a=[int(x) for x in input().split()]\n",
    "b=(a[::-1])\n",
    "print(tuple(b))"
   ]
  },
  {
   "cell_type": "code",
   "execution_count": 8,
   "metadata": {},
   "outputs": [
    {
     "name": "stdout",
     "output_type": "stream",
     "text": [
      "5\n",
      "volume is  523.3333333333334\n"
     ]
    }
   ],
   "source": [
    "# 5\n",
    "r=int(input())\n",
    "print('volume is ', (4*3.14*r**3)/3)"
   ]
  },
  {
   "cell_type": "code",
   "execution_count": 10,
   "metadata": {},
   "outputs": [
    {
     "name": "stdout",
     "output_type": "stream",
     "text": [
      "the even list is  [2, 4, 6, 8, 10, 12, 14, 16, 18, 20, 22, 24, 26, 28, 30, 32, 34, 36, 38, 40, 42, 44, 46, 48, 50, 52, 54, 56, 58, 60, 62, 64, 66, 68, 70, 72, 74, 76, 78, 80, 82, 84, 86, 88, 90, 92, 94, 96, 98, 100]\n",
      "the odd list is [1, 3, 5, 7, 9, 11, 13, 15, 17, 19, 21, 23, 25, 27, 29, 31, 33, 35, 37, 39, 41, 43, 45, 47, 49, 51, 53, 55, 57, 59, 61, 63, 65, 67, 69, 71, 73, 75, 77, 79, 81, 83, 85, 87, 89, 91, 93, 95, 97, 99]\n"
     ]
    }
   ],
   "source": [
    "# 6\n",
    "a=[]\n",
    "b=[]\n",
    "for i in range(1,101):\n",
    "    if i%2==0:\n",
    "        a.append(i)\n",
    "    else :\n",
    "        b.append(i)\n",
    "print(\"the even list is \" , a)\n",
    "print(\"the odd list is\" , b)"
   ]
  },
  {
   "cell_type": "code",
   "execution_count": 22,
   "metadata": {},
   "outputs": [
    {
     "name": "stdout",
     "output_type": "stream",
     "text": [
      "1\n",
      "4\n",
      "4\n",
      "roots are  -2.0 -2.0\n"
     ]
    }
   ],
   "source": [
    "# 7\n",
    "import math\n",
    "a=int(input())\n",
    "b=int(input())\n",
    "c=int(input())\n",
    "d=math.sqrt((b*b)-(4*a*c))\n",
    "x1=(-b+d)/2*a\n",
    "x2=(-b-d)/2*a\n",
    "print(\"roots are \",x1,x2)"
   ]
  },
  {
   "cell_type": "code",
   "execution_count": 12,
   "metadata": {},
   "outputs": [
    {
     "name": "stdout",
     "output_type": "stream",
     "text": [
      "534243\n",
      "No of digits are 6\n"
     ]
    }
   ],
   "source": [
    "# 8\n",
    "a=int(input())\n",
    "b=str(a)\n",
    "print(\"No of digits are\", len(b))"
   ]
  },
  {
   "cell_type": "code",
   "execution_count": 18,
   "metadata": {},
   "outputs": [
    {
     "name": "stdout",
     "output_type": "stream",
     "text": [
      "19\n",
      "True\n"
     ]
    }
   ],
   "source": [
    "# 9\n",
    "def isprime(x):\n",
    "    k=0\n",
    "    for i in range(2,int(x/2)+1):\n",
    "        if(x%i==0):\n",
    "            k=1\n",
    "            break\n",
    "    if k==0 :print(\"True\")\n",
    "    else :print(\"False\")\n",
    "isprime(int(input()))"
   ]
  },
  {
   "cell_type": "code",
   "execution_count": 19,
   "metadata": {},
   "outputs": [
    {
     "name": "stdout",
     "output_type": "stream",
     "text": [
      "17\n",
      "60\n"
     ]
    }
   ],
   "source": [
    "# 10\n",
    "a=[]\n",
    "n=int(input())\n",
    "for i in range(1,n+1):\n",
    "    if(i%3==0 or i%5==0):a.append(i)\n",
    "print(sum(a))"
   ]
  },
  {
   "cell_type": "code",
   "execution_count": 24,
   "metadata": {},
   "outputs": [
    {
     "name": "stdout",
     "output_type": "stream",
     "text": [
      "5\n",
      "2\n",
      "the product is  120\n"
     ]
    }
   ],
   "source": [
    "# 11\n",
    "n=int(input())\n",
    "s=0\n",
    "p=1\n",
    "choice=int(input())\n",
    "for i in range(1,n+1):\n",
    "    if(choice==1):\n",
    "        s+=i\n",
    "    elif(choice==2):\n",
    "        p=p*i\n",
    "if(choice==1):print(\"the sum is \",s)\n",
    "else : print(\"the product is \", p)"
   ]
  },
  {
   "cell_type": "code",
   "execution_count": 20,
   "metadata": {},
   "outputs": [
    {
     "name": "stdout",
     "output_type": "stream",
     "text": [
      "17\n",
      "60\n"
     ]
    }
   ],
   "source": [
    "# 12\n",
    "a=[]\n",
    "n=int(input())\n",
    "for i in range(1,n+1):\n",
    "    if(i%3==0 or i%5==0):a.append(i)\n",
    "print(sum(a))"
   ]
  },
  {
   "cell_type": "code",
   "execution_count": 25,
   "metadata": {},
   "outputs": [
    {
     "name": "stdout",
     "output_type": "stream",
     "text": [
      "2002 , 2009 , 2016 , 2023 , 2037 , 2044 , 2051 , 2058 , 2072 , 2079 , 2086 , 2093 , 2107 , 2114 , 2121 , 2128 , 2142 , 2149 , 2156 , 2163 , 2177 , 2184 , 2191 , 2198 , 2212 , 2219 , 2226 , 2233 , 2247 , 2254 , 2261 , 2268 , 2282 , 2289 , 2296 , 2303 , 2317 , 2324 , 2331 , 2338 , 2352 , 2359 , 2366 , 2373 , 2387 , 2394 , 2401 , 2408 , 2422 , 2429 , 2436 , 2443 , 2457 , 2464 , 2471 , 2478 , 2492 , 2499 , 2506 , 2513 , 2527 , 2534 , 2541 , 2548 , 2562 , 2569 , 2576 , 2583 , 2597 , 2604 , 2611 , 2618 , 2632 , 2639 , 2646 , 2653 , 2667 , 2674 , 2681 , 2688 , 2702 , 2709 , 2716 , 2723 , 2737 , 2744 , 2751 , 2758 , 2772 , 2779 , 2786 , 2793 , 2807 , 2814 , 2821 , 2828 , 2842 , 2849 , 2856 , 2863 , 2877 , 2884 , 2891 , 2898 , 2912 , 2919 , 2926 , 2933 , 2947 , 2954 , 2961 , 2968 , 2982 , 2989 , 2996 , 3003 , 3017 , 3024 , 3031 , 3038 , 3052 , 3059 , 3066 , 3073 , 3087 , 3094 , 3101 , 3108 , 3122 , 3129 , 3136 , 3143 , 3157 , 3164 , 3171 , 3178 , 3192 , 3199 , "
     ]
    }
   ],
   "source": [
    "# 13\n",
    "for i in range(2000,3201):\n",
    "    if(i%7==0 and i%5!=0):\n",
    "        print(i,end=\" , \")\n"
   ]
  },
  {
   "cell_type": "code",
   "execution_count": 27,
   "metadata": {},
   "outputs": [
    {
     "name": "stdout",
     "output_type": "stream",
     "text": [
      "25164150\n"
     ]
    }
   ],
   "source": [
    "# 14\n",
    "s1=0\n",
    "s2=0\n",
    "for i in range(1,101):\n",
    "    s1=s1+i**2\n",
    "    s2=s2+i\n",
    "print(s2**2-s1)"
   ]
  },
  {
   "cell_type": "code",
   "execution_count": null,
   "metadata": {},
   "outputs": [],
   "source": []
  },
  {
   "cell_type": "code",
   "execution_count": null,
   "metadata": {},
   "outputs": [],
   "source": [
    "# 16\n",
    "def isprime(x):\n",
    "    k=0\n",
    "    for i in range(2,int(x/2)+1):\n",
    "        if(x%i==0):\n",
    "            k=1\n",
    "            break\n",
    "    if k==0 :print(\"True\")\n",
    "    else :print(\"False\")\n",
    "isprime(int(input()))"
   ]
  },
  {
   "cell_type": "code",
   "execution_count": 35,
   "metadata": {},
   "outputs": [
    {
     "name": "stdout",
     "output_type": "stream",
     "text": [
      "6\n",
      "factorial =  720\n"
     ]
    }
   ],
   "source": [
    "# 17\n",
    "n=int(input())\n",
    "p=1\n",
    "for i in range(1,n+1):\n",
    "    p=p*i\n",
    "print(\"factorial = \",p)"
   ]
  },
  {
   "cell_type": "code",
   "execution_count": 38,
   "metadata": {},
   "outputs": [
    {
     "name": "stdout",
     "output_type": "stream",
     "text": [
      "7\n",
      "0\n",
      "1\n",
      "1\n",
      "2\n",
      "3\n",
      "5\n",
      "8\n"
     ]
    }
   ],
   "source": [
    "# 18\n",
    "n=int(input())\n",
    "a=0\n",
    "b=1\n",
    "for i in range(n):\n",
    "    print(a)\n",
    "    c=a+b\n",
    "    a=b\n",
    "    b=c"
   ]
  },
  {
   "cell_type": "code",
   "execution_count": 3,
   "metadata": {},
   "outputs": [
    {
     "name": "stdout",
     "output_type": "stream",
     "text": [
      "5 \n",
      "6\n",
      "LCM is  30\n"
     ]
    }
   ],
   "source": [
    "# 19\n",
    "x1=int(input())\n",
    "x2=int(input())\n",
    "c=max(x1,x2)\n",
    "while(c%x1!=0 or c%x2!=0):\n",
    "    c=c+1\n",
    "print(\"LCM is \",c)"
   ]
  },
  {
   "cell_type": "code",
   "execution_count": 2,
   "metadata": {},
   "outputs": [
    {
     "name": "stdout",
     "output_type": "stream",
     "text": [
      "6\n",
      "1 2 3 6 "
     ]
    }
   ],
   "source": [
    "# 20\n",
    "x=int(input())\n",
    "i=1\n",
    "while(i<=x):\n",
    "    if(x%i==0):print(i,end=\" \")\n",
    "    i=i+1"
   ]
  },
  {
   "cell_type": "code",
   "execution_count": null,
   "metadata": {},
   "outputs": [],
   "source": [
    "# 21 (1)\n",
    "for i in range(1,int(input())+1):\n",
    "    print(\"*\"*i)"
   ]
  },
  {
   "cell_type": "code",
   "execution_count": 41,
   "metadata": {},
   "outputs": [
    {
     "name": "stdout",
     "output_type": "stream",
     "text": [
      "7\n",
      "*******\n",
      "******\n",
      "*****\n",
      "****\n",
      "***\n",
      "**\n",
      "*\n"
     ]
    }
   ],
   "source": [
    "#  21(2)\n",
    "for i in range(int(input()),0,-1):\n",
    "    print(\"*\"*i)"
   ]
  },
  {
   "cell_type": "code",
   "execution_count": 42,
   "metadata": {},
   "outputs": [
    {
     "name": "stdout",
     "output_type": "stream",
     "text": [
      "5\n",
      "1\n",
      "22\n",
      "333\n",
      "4444\n",
      "55555\n"
     ]
    }
   ],
   "source": [
    "# 21 (3)\n",
    "for i in range(1,int(input())+1):\n",
    "    print(str(i)*i)"
   ]
  },
  {
   "cell_type": "code",
   "execution_count": 5,
   "metadata": {},
   "outputs": [
    {
     "name": "stdout",
     "output_type": "stream",
     "text": [
      "5\n",
      "       \n",
      "      \n",
      "     * \n",
      "    * * \n",
      "   * * * \n",
      "  * * * * \n",
      " * * * * * \n"
     ]
    }
   ],
   "source": [
    "# 21(4)\n",
    "n=int(input())\n",
    "for i in range(n+1,-1,-1):\n",
    "    print(\" \"*i,end=\" \")\n",
    "    for j in range(1,n-i+1):\n",
    "        print(\"*\",end=\" \")\n",
    "    print()"
   ]
  },
  {
   "cell_type": "code",
   "execution_count": 51,
   "metadata": {},
   "outputs": [
    {
     "name": "stdout",
     "output_type": "stream",
     "text": [
      "4\n",
      "1 \n",
      "2 3 \n",
      "4 5 6 \n",
      "7 8 9 10 \n"
     ]
    }
   ],
   "source": [
    "#21 (5)\n",
    "n=int(input())\n",
    "k=1\n",
    "for i in range(1,n+1):\n",
    "    for j in range(1,i+1):\n",
    "        print(k,end=\" \")\n",
    "        k+=1\n",
    "    print()"
   ]
  },
  {
   "cell_type": "code",
   "execution_count": 71,
   "metadata": {},
   "outputs": [
    {
     "name": "stdout",
     "output_type": "stream",
     "text": [
      "4\n",
      "A \n",
      "B C \n",
      "D E F \n",
      "G H I J \n"
     ]
    }
   ],
   "source": [
    "#21 (6)\n",
    "n=int(input())\n",
    "k=(\"A\")\n",
    "for i in range(1,n+1):\n",
    "    for j in range(1,i+1):\n",
    "        print(str(k),end=\" \")\n",
    "        k=chr(ord(k)+1)\n",
    "    print()"
   ]
  },
  {
   "cell_type": "code",
   "execution_count": 21,
   "metadata": {},
   "outputs": [
    {
     "name": "stdout",
     "output_type": "stream",
     "text": [
      "9\n",
      "11106\n"
     ]
    }
   ],
   "source": [
    "# 22\n",
    "x=int(input())\n",
    "a=[]\n",
    "for i in range(1,5):\n",
    "    b=str(x)*i\n",
    "    a.append(int(b))\n",
    "print(sum(a))"
   ]
  },
  {
   "cell_type": "code",
   "execution_count": null,
   "metadata": {},
   "outputs": [],
   "source": []
  }
 ],
 "metadata": {
  "kernelspec": {
   "display_name": "Python 3",
   "language": "python",
   "name": "python3"
  },
  "language_info": {
   "codemirror_mode": {
    "name": "ipython",
    "version": 3
   },
   "file_extension": ".py",
   "mimetype": "text/x-python",
   "name": "python",
   "nbconvert_exporter": "python",
   "pygments_lexer": "ipython3",
   "version": "3.7.3"
  }
 },
 "nbformat": 4,
 "nbformat_minor": 2
}
